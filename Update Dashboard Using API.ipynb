{
 "cells": [
  {
   "cell_type": "code",
   "execution_count": 0,
   "metadata": {
    "application/vnd.databricks.v1+cell": {
     "cellMetadata": {
      "byteLimit": 2048000,
      "rowLimit": 10000
     },
     "inputWidgets": {},
     "nuid": "3db0d167-9034-4e7d-ad2c-f614ee97f841",
     "showTitle": false,
     "tableResultSettingsMap": {},
     "title": ""
    }
   },
   "outputs": [],
   "source": [
    "%pip install --upgrade databricks-sdk tqdm\n",
    "%restart_python"
   ]
  },
  {
   "cell_type": "code",
   "execution_count": 0,
   "metadata": {
    "application/vnd.databricks.v1+cell": {
     "cellMetadata": {},
     "inputWidgets": {},
     "nuid": "b2f2a218-01bc-4853-947b-5adaa36a8bf4",
     "showTitle": false,
     "tableResultSettingsMap": {},
     "title": ""
    }
   },
   "outputs": [],
   "source": [
    "# Get the dashboard ID from the Dashbaord URL, it's the string after \"dashboardsv3/\" \n",
    "DASHBOARD_ID = \"01f05c7bdf371db6b0ebb06b193b218b\""
   ]
  },
  {
   "cell_type": "code",
   "execution_count": 0,
   "metadata": {
    "application/vnd.databricks.v1+cell": {
     "cellMetadata": {
      "byteLimit": 2048000,
      "rowLimit": 10000
     },
     "inputWidgets": {},
     "nuid": "016fb03c-2d91-4fa4-9dca-0572e8f5c2b1",
     "showTitle": false,
     "tableResultSettingsMap": {},
     "title": ""
    }
   },
   "outputs": [],
   "source": [
    "\n",
    "from databricks.sdk import WorkspaceClient\n",
    "from databricks.sdk.service import dashboards\n",
    "\n",
    "#Load the current dashbaord object and obtain the json\n",
    "import json\n",
    "w = WorkspaceClient()\n",
    "old_dashboard = w.lakeview.get(DASHBOARD_ID)\n",
    "d_new = json.loads(old_dashboard.serialized_dashboard)\n",
    "display(d_new)"
   ]
  },
  {
   "cell_type": "code",
   "execution_count": 0,
   "metadata": {
    "application/vnd.databricks.v1+cell": {
     "cellMetadata": {
      "byteLimit": 2048000,
      "rowLimit": 10000
     },
     "inputWidgets": {},
     "nuid": "04cb6dd5-104a-4779-88a8-64ae81794474",
     "showTitle": true,
     "tableResultSettingsMap": {},
     "title": "Print the current color coding"
    }
   },
   "outputs": [],
   "source": [
    "#print the current color mapping\n",
    "d_new['pages'][0]['layout'][0]['widget']['spec']['encodings'].get('color', {}).get('scale', {}).get('mappings', {})"
   ]
  },
  {
   "cell_type": "code",
   "execution_count": 0,
   "metadata": {
    "application/vnd.databricks.v1+cell": {
     "cellMetadata": {
      "byteLimit": 2048000,
      "rowLimit": 10000
     },
     "inputWidgets": {},
     "nuid": "46c026c1-4ef0-4853-89d8-53ecd126ae76",
     "showTitle": true,
     "tableResultSettingsMap": {},
     "title": "Change color coding"
    }
   },
   "outputs": [],
   "source": [
    "# This is where you put the color coding matched with categorical value here\n",
    "d_new['pages'][0]['layout'][0]['widget']['spec']['encodings']['color']['scale']['mappings'] = \\\n",
    "[{'value': None, 'color': '#85605C'},\n",
    " {'value': 'int', 'color': '#5C00FF'},\n",
    " {'value': 'string', 'color': '#70BFA8'},\n",
    " {'value': 'timestamp', 'color': '#2BA900'}]"
   ]
  },
  {
   "cell_type": "code",
   "execution_count": 0,
   "metadata": {
    "application/vnd.databricks.v1+cell": {
     "cellMetadata": {
      "byteLimit": 2048000,
      "rowLimit": 10000
     },
     "inputWidgets": {},
     "nuid": "180d05ae-c115-4fb4-b8cf-0dce4c55daed",
     "showTitle": true,
     "tableResultSettingsMap": {},
     "title": "Update the dashboard"
    }
   },
   "outputs": [],
   "source": [
    "# update the dashboard. Also you can change the dashboard name to show the update\n",
    "w.lakeview.update(DASHBOARD_ID,\n",
    "  dashboards.Dashboard(\n",
    "    dashboard_id=DASHBOARD_ID,\n",
    "    display_name=\"Dashboard updated name\",\n",
    "    serialized_dashboard=json.dumps(d_new),\n",
    "    warehouse_id=old_dashboard.warehouse_id)\n",
    ")"
   ]
  }
 ],
 "metadata": {
  "application/vnd.databricks.v1+notebook": {
   "computePreferences": {
    "hardware": {
     "accelerator": null,
     "gpuPoolId": null,
     "memory": null
    }
   },
   "dashboards": [],
   "environmentMetadata": {
    "base_environment": "",
    "environment_version": "3"
   },
   "inputWidgetPreferences": null,
   "language": "python",
   "notebookMetadata": {
    "pythonIndentUnit": 2
   },
   "notebookName": "Update Dashboard Using API",
   "widgets": {}
  },
  "language_info": {
   "name": "python"
  }
 },
 "nbformat": 4,
 "nbformat_minor": 0
}
